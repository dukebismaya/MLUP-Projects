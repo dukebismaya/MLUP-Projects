{
 "cells": [
  {
   "cell_type": "markdown",
   "id": "e1a3296d",
   "metadata": {},
   "source": [
    "## Dash Practicals"
   ]
  },
  {
   "cell_type": "code",
   "execution_count": 5,
   "id": "ccf12870",
   "metadata": {},
   "outputs": [],
   "source": [
    "# importing necessary libraries\n",
    "import dash\n",
    "from dash import html, dcc\n",
    "from dash.dependencies import Input, Output\n",
    "import plotly.express as px\n",
    "import pandas as pd\n"
   ]
  },
  {
   "cell_type": "markdown",
   "id": "132e4e5d",
   "metadata": {
    "vscode": {
     "languageId": "plaintext"
    }
   },
   "source": [
    "- Practical 1: Simple Dash App – Displaying Text"
   ]
  },
  {
   "cell_type": "code",
   "execution_count": 6,
   "id": "83b34bef",
   "metadata": {},
   "outputs": [
    {
     "data": {
      "text/html": [
       "\n",
       "        <iframe\n",
       "            width=\"100%\"\n",
       "            height=\"650\"\n",
       "            src=\"http://127.0.0.1:8050/\"\n",
       "            frameborder=\"0\"\n",
       "            allowfullscreen\n",
       "            \n",
       "        ></iframe>\n",
       "        "
      ],
      "text/plain": [
       "<IPython.lib.display.IFrame at 0x1abf945b100>"
      ]
     },
     "metadata": {},
     "output_type": "display_data"
    }
   ],
   "source": [
    "# Initialize app\n",
    "app = dash.Dash(__name__)\n",
    "\n",
    "# Layout\n",
    "app.layout = html.Div([\n",
    "    html.H1(\"My First Dash App\"),\n",
    "    html.P(\"This is a simple paragraph in Dash.\")\n",
    "])\n",
    "\n",
    "# Run server\n",
    "if __name__ == \"__main__\":\n",
    "    app.run(debug=True)"
   ]
  },
  {
   "cell_type": "markdown",
   "id": "54a81694",
   "metadata": {},
   "source": [
    "- Adding Interactive Dropdown and Text Output"
   ]
  },
  {
   "cell_type": "code",
   "execution_count": 7,
   "id": "64d2c314",
   "metadata": {},
   "outputs": [
    {
     "data": {
      "text/html": [
       "\n",
       "        <iframe\n",
       "            width=\"100%\"\n",
       "            height=\"650\"\n",
       "            src=\"http://127.0.0.1:8050/\"\n",
       "            frameborder=\"0\"\n",
       "            allowfullscreen\n",
       "            \n",
       "        ></iframe>\n",
       "        "
      ],
      "text/plain": [
       "<IPython.lib.display.IFrame at 0x1abf945ba80>"
      ]
     },
     "metadata": {},
     "output_type": "display_data"
    }
   ],
   "source": [
    "app = dash.Dash(__name__)\n",
    "\n",
    "app.layout = html.Div([\n",
    "    html.H2(\"Choose a fruit:\"),\n",
    "    dcc.Dropdown(\n",
    "        id='fruit-dropdown',\n",
    "        options=[\n",
    "            {'label': 'Apple', 'value': 'Apple'},\n",
    "            {'label': 'Banana', 'value': 'Banana'},\n",
    "            {'label': 'Mango', 'value': 'Mango'}\n",
    "        ],\n",
    "        value='Apple'\n",
    "    ),\n",
    "    html.Div(id='display-selected-fruit')\n",
    "])\n",
    "\n",
    "# Callback for interactivity\n",
    "@app.callback(\n",
    "    Output('display-selected-fruit', 'children'),\n",
    "    [Input('fruit-dropdown', 'value')]\n",
    ")\n",
    "def update_output(selected_fruit):\n",
    "    return f'You selected: {selected_fruit}'\n",
    "\n",
    "if __name__ == \"__main__\":\n",
    "    app.run(debug=True)"
   ]
  },
  {
   "cell_type": "markdown",
   "id": "b510a4d3",
   "metadata": {},
   "source": [
    "- Interactive Graph with Slider"
   ]
  },
  {
   "cell_type": "code",
   "execution_count": 8,
   "id": "02f25d5d",
   "metadata": {},
   "outputs": [
    {
     "data": {
      "text/html": [
       "\n",
       "        <iframe\n",
       "            width=\"100%\"\n",
       "            height=\"650\"\n",
       "            src=\"http://127.0.0.1:8050/\"\n",
       "            frameborder=\"0\"\n",
       "            allowfullscreen\n",
       "            \n",
       "        ></iframe>\n",
       "        "
      ],
      "text/plain": [
       "<IPython.lib.display.IFrame at 0x1abe665a8d0>"
      ]
     },
     "metadata": {},
     "output_type": "display_data"
    }
   ],
   "source": [
    "# Sample DataFrame\n",
    "df = pd.DataFrame({\n",
    "    'Year': [2010, 2011, 2012, 2013, 2014],\n",
    "    'Sales': [100, 120, 150, 170, 200]\n",
    "})\n",
    "\n",
    "app = dash.Dash(__name__)\n",
    "\n",
    "app.layout = html.Div([\n",
    "    html.H2(\"Sales Over Years\"),\n",
    "    dcc.Slider(\n",
    "        id='year-slider',\n",
    "        min=df['Year'].min(),\n",
    "        max=df['Year'].max(),\n",
    "        value=df['Year'].min(),\n",
    "        marks={str(year): str(year) for year in df['Year']},\n",
    "        step=None\n",
    "    ),\n",
    "    dcc.Graph(id='line-graph')\n",
    "])\n",
    "\n",
    "@app.callback(\n",
    "    Output('line-graph', 'figure'),\n",
    "    [Input('year-slider', 'value')]\n",
    ")\n",
    "def update_graph(selected_year):\n",
    "    filtered_df = df[df['Year'] <= selected_year]\n",
    "    fig = px.line(filtered_df, x='Year', y='Sales', title='Sales Over Years')\n",
    "    return fig\n",
    "\n",
    "if __name__ == \"__main__\":\n",
    "    app.run(debug=True)"
   ]
  },
  {
   "cell_type": "markdown",
   "id": "f83f8011",
   "metadata": {},
   "source": [
    "- Multi-Input Dashboard Example (Dropdown + Slider)"
   ]
  },
  {
   "cell_type": "code",
   "execution_count": 9,
   "id": "c39a91d9",
   "metadata": {},
   "outputs": [
    {
     "data": {
      "text/html": [
       "\n",
       "        <iframe\n",
       "            width=\"100%\"\n",
       "            height=\"650\"\n",
       "            src=\"http://127.0.0.1:8050/\"\n",
       "            frameborder=\"0\"\n",
       "            allowfullscreen\n",
       "            \n",
       "        ></iframe>\n",
       "        "
      ],
      "text/plain": [
       "<IPython.lib.display.IFrame at 0x1abf941f570>"
      ]
     },
     "metadata": {},
     "output_type": "display_data"
    }
   ],
   "source": [
    "# Sample data\n",
    "df = pd.DataFrame({\n",
    "    'Fruit': ['Apple', 'Banana', 'Mango', 'Apple', 'Banana', 'Mango'],\n",
    "    'Sales': [100, 120, 150, 130, 140, 170],\n",
    "    'Year': [2020, 2020, 2020, 2021, 2021, 2021]\n",
    "})\n",
    "\n",
    "app = dash.Dash(__name__)\n",
    "\n",
    "app.layout = html.Div([\n",
    "    dcc.Dropdown(\n",
    "        id='fruit-dropdown',\n",
    "        options=[{'label': i, 'value': i} for i in df['Fruit'].unique()],\n",
    "        value='Apple'\n",
    "    ),\n",
    "    dcc.Slider(\n",
    "        id='year-slider',\n",
    "        min=df['Year'].min(),\n",
    "        max=df['Year'].max(),\n",
    "        value=df['Year'].min(),\n",
    "        marks={str(year): str(year) for year in df['Year'].unique()},\n",
    "        step=None\n",
    "    ),\n",
    "    dcc.Graph(id='bar-graph')\n",
    "])\n",
    "\n",
    "@app.callback(\n",
    "    Output('bar-graph', 'figure'),\n",
    "    [Input('fruit-dropdown', 'value'),\n",
    "     Input('year-slider', 'value')]\n",
    ")\n",
    "def update_graph(fruit, year):\n",
    "    filtered_df = df[(df['Fruit'] == fruit) & (df['Year'] == year)]\n",
    "    fig = px.bar(filtered_df, x='Fruit', y='Sales', title=f'Sales of {fruit} in {year}')\n",
    "    return fig\n",
    "\n",
    "if __name__ == \"__main__\":\n",
    "    app.run(debug=True)"
   ]
  }
 ],
 "metadata": {
  "kernelspec": {
   "display_name": ".venv",
   "language": "python",
   "name": "python3"
  },
  "language_info": {
   "codemirror_mode": {
    "name": "ipython",
    "version": 3
   },
   "file_extension": ".py",
   "mimetype": "text/x-python",
   "name": "python",
   "nbconvert_exporter": "python",
   "pygments_lexer": "ipython3",
   "version": "3.13.7"
  }
 },
 "nbformat": 4,
 "nbformat_minor": 5
}
