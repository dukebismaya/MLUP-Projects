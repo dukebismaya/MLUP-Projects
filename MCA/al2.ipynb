{
 "cells": [
  {
   "cell_type": "markdown",
   "id": "8c4cd863",
   "metadata": {},
   "source": [
    "## Pandas Practicals"
   ]
  },
  {
   "cell_type": "code",
   "execution_count": null,
   "id": "e9e495fb",
   "metadata": {},
   "outputs": [],
   "source": [
    "\n",
    "# 1. Import Libraries\n",
    "\n",
    "import pandas as pd\n",
    "import numpy as np\n",
    "import matplotlib.pyplot as plt\n"
   ]
  },
  {
   "cell_type": "code",
   "execution_count": 3,
   "id": "dac66437",
   "metadata": {},
   "outputs": [],
   "source": [
    "\n",
    "# ---------------------------\n",
    "# 2. Create Sample Dataset\n",
    "# ---------------------------\n",
    "data = {\n",
    "    'ID': [1, 2, 3, 4, 5, 6, 7, 8, 9, 10],\n",
    "    'Name': ['Alice', 'Bob', 'Charlie', 'David', 'Eva', 'Frank', 'Grace', 'Helen', 'Ian', 'Jack'],\n",
    "    'Department': ['HR', 'IT', 'IT', 'Finance', 'HR', 'Finance', 'IT', 'HR', 'Finance', 'IT'],\n",
    "    'Salary': [50000, 60000, np.nan, 75000, 52000, 72000, 61000, np.nan, 68000, 59000],\n",
    "    'JoiningDate': ['2020-01-15', '2019-03-10', '2021-07-20', '2018-11-25', '2020-05-30',\n",
    "                    '2019-12-12', '2021-01-01', '2020-09-10', '2018-06-18', '2021-03-03']\n",
    "}\n",
    "df = pd.DataFrame(data)\n",
    "# Convert JoiningDate to datetime\n",
    "df['JoiningDate'] = pd.to_datetime(df['JoiningDate'])"
   ]
  },
  {
   "cell_type": "code",
   "execution_count": 4,
   "id": "d0dc9844",
   "metadata": {},
   "outputs": [
    {
     "name": "stdout",
     "output_type": "stream",
     "text": [
      "Sample Dataset:\n",
      "    ID     Name Department   Salary JoiningDate\n",
      "0   1    Alice         HR  50000.0  2020-01-15\n",
      "1   2      Bob         IT  60000.0  2019-03-10\n",
      "2   3  Charlie         IT      NaN  2021-07-20\n",
      "3   4    David    Finance  75000.0  2018-11-25\n",
      "4   5      Eva         HR  52000.0  2020-05-30\n",
      "5   6    Frank    Finance  72000.0  2019-12-12\n",
      "6   7    Grace         IT  61000.0  2021-01-01\n",
      "7   8    Helen         HR      NaN  2020-09-10\n",
      "8   9      Ian    Finance  68000.0  2018-06-18\n",
      "9  10     Jack         IT  59000.0  2021-03-03\n"
     ]
    }
   ],
   "source": [
    "# Display the dataset\n",
    "print(\"Sample Dataset:\\n\", df)"
   ]
  },
  {
   "cell_type": "code",
   "execution_count": null,
   "id": "3a28c3d3",
   "metadata": {},
   "outputs": [
    {
     "name": "stdout",
     "output_type": "stream",
     "text": [
      "\n",
      "Dataset Info:\n",
      "<class 'pandas.core.frame.DataFrame'>\n",
      "RangeIndex: 10 entries, 0 to 9\n",
      "Data columns (total 5 columns):\n",
      " #   Column       Non-Null Count  Dtype         \n",
      "---  ------       --------------  -----         \n",
      " 0   ID           10 non-null     int64         \n",
      " 1   Name         10 non-null     object        \n",
      " 2   Department   10 non-null     object        \n",
      " 3   Salary       8 non-null      float64       \n",
      " 4   JoiningDate  10 non-null     datetime64[ns]\n",
      "dtypes: datetime64[ns](1), float64(1), int64(1), object(2)\n",
      "memory usage: 532.0+ bytes\n",
      "None\n",
      "####################################################\n",
      "\n",
      "Statistical Summary:\n",
      "             ID        Salary          JoiningDate\n",
      "count  10.00000      8.000000                   10\n",
      "mean    5.50000  62125.000000  2020-02-19 12:00:00\n",
      "min     1.00000  50000.000000  2018-06-18 00:00:00\n",
      "25%     3.25000  57250.000000  2019-05-18 06:00:00\n",
      "50%     5.50000  60500.000000  2020-03-23 00:00:00\n",
      "75%     7.75000  69000.000000  2020-12-03 18:00:00\n",
      "max    10.00000  75000.000000  2021-07-20 00:00:00\n",
      "std     3.02765   8967.202144                  NaN\n",
      "####################################################\n",
      "\n",
      "First 5 rows:\n",
      "   ID     Name Department   Salary JoiningDate\n",
      "0   1    Alice         HR  50000.0  2020-01-15\n",
      "1   2      Bob         IT  60000.0  2019-03-10\n",
      "2   3  Charlie         IT      NaN  2021-07-20\n",
      "3   4    David    Finance  75000.0  2018-11-25\n",
      "4   5      Eva         HR  52000.0  2020-05-30\n",
      "####################################################\n",
      "\n",
      "Last 5 rows:\n",
      "   ID   Name Department   Salary JoiningDate\n",
      "5   6  Frank    Finance  72000.0  2019-12-12\n",
      "6   7  Grace         IT  61000.0  2021-01-01\n",
      "7   8  Helen         HR      NaN  2020-09-10\n",
      "8   9    Ian    Finance  68000.0  2018-06-18\n",
      "9  10   Jack         IT  59000.0  2021-03-03\n"
     ]
    }
   ],
   "source": [
    "# 3. Inspect the Dataset\n",
    "print(\"\\nDataset Info:\")\n",
    "print(df.info())\n",
    "\n",
    "print(\"####################################################\")\n",
    "print(\"\\nStatistical Summary:\")\n",
    "print(df.describe())\n",
    "print(\"####################################################\")\n",
    "print(\"\\nFirst 5 rows:\")\n",
    "print(df.head())\n",
    "print(\"####################################################\")\n",
    "print(\"\\nLast 5 rows:\")\n",
    "print(df.tail())"
   ]
  },
  {
   "cell_type": "code",
   "execution_count": 8,
   "id": "27afe19f",
   "metadata": {},
   "outputs": [
    {
     "name": "stdout",
     "output_type": "stream",
     "text": [
      "\n",
      "--- Missing Values ---\n",
      "ID             0\n",
      "Name           0\n",
      "Department     0\n",
      "Salary         2\n",
      "JoiningDate    0\n",
      "dtype: int64\n"
     ]
    }
   ],
   "source": [
    "# ---------------------------\n",
    "# 4. Handling Missing Data\n",
    "# ---------------------------\n",
    "print(\"\\n--- Missing Values ---\")\n",
    "print(df.isnull().sum())"
   ]
  },
  {
   "cell_type": "code",
   "execution_count": 10,
   "id": "6d944bf8",
   "metadata": {},
   "outputs": [
    {
     "name": "stdout",
     "output_type": "stream",
     "text": [
      "\n",
      "After filling missing Salary with mean:\n",
      "   ID     Name Department   Salary JoiningDate\n",
      "0   1    Alice         HR  50000.0  2020-01-15\n",
      "1   2      Bob         IT  60000.0  2019-03-10\n",
      "2   3  Charlie         IT  62125.0  2021-07-20\n",
      "3   4    David    Finance  75000.0  2018-11-25\n",
      "4   5      Eva         HR  52000.0  2020-05-30\n",
      "5   6    Frank    Finance  72000.0  2019-12-12\n",
      "6   7    Grace         IT  61000.0  2021-01-01\n",
      "7   8    Helen         HR  62125.0  2020-09-10\n",
      "8   9      Ian    Finance  68000.0  2018-06-18\n",
      "9  10     Jack         IT  59000.0  2021-03-03\n"
     ]
    }
   ],
   "source": [
    "# Fill missing Salary with mean\n",
    "df['Salary'] = df['Salary'].fillna(df['Salary'].mean())\n",
    "print(\"\\nAfter filling missing Salary with mean:\")\n",
    "print(df)"
   ]
  },
  {
   "cell_type": "code",
   "execution_count": 11,
   "id": "1e67984b",
   "metadata": {},
   "outputs": [
    {
     "name": "stdout",
     "output_type": "stream",
     "text": [
      "\n",
      "--- Select Column 'Name' ---\n",
      "0      Alice\n",
      "1        Bob\n",
      "2    Charlie\n",
      "3      David\n",
      "4        Eva\n",
      "5      Frank\n",
      "6      Grace\n",
      "7      Helen\n",
      "8        Ian\n",
      "9       Jack\n",
      "Name: Name, dtype: object\n",
      "\n",
      "--- Select Multiple Columns ---\n",
      "      Name   Salary\n",
      "0    Alice  50000.0\n",
      "1      Bob  60000.0\n",
      "2  Charlie  62125.0\n",
      "3    David  75000.0\n",
      "4      Eva  52000.0\n",
      "5    Frank  72000.0\n",
      "6    Grace  61000.0\n",
      "7    Helen  62125.0\n",
      "8      Ian  68000.0\n",
      "9     Jack  59000.0\n",
      "\n",
      "--- Select Rows with Salary > 60000 ---\n",
      "   ID     Name Department   Salary JoiningDate\n",
      "2   3  Charlie         IT  62125.0  2021-07-20\n",
      "3   4    David    Finance  75000.0  2018-11-25\n",
      "5   6    Frank    Finance  72000.0  2019-12-12\n",
      "6   7    Grace         IT  61000.0  2021-01-01\n",
      "7   8    Helen         HR  62125.0  2020-09-10\n",
      "8   9      Ian    Finance  68000.0  2018-06-18\n"
     ]
    }
   ],
   "source": [
    "# 5. Selecting Data\n",
    "print(\"\\n--- Select Column 'Name' ---\")\n",
    "print(df['Name'])\n",
    "\n",
    "print(\"\\n--- Select Multiple Columns ---\")\n",
    "print(df[['Name', 'Salary']])\n",
    "\n",
    "print(\"\\n--- Select Rows with Salary > 60000 ---\")\n",
    "print(df[df['Salary'] > 60000])"
   ]
  },
  {
   "cell_type": "code",
   "execution_count": 12,
   "id": "c8243f7a",
   "metadata": {},
   "outputs": [
    {
     "name": "stdout",
     "output_type": "stream",
     "text": [
      "\n",
      "After adding Bonus and TotalCompensation columns:\n",
      "   ID     Name Department   Salary JoiningDate   Bonus  TotalCompensation\n",
      "0   1    Alice         HR  50000.0  2020-01-15  5000.0            55000.0\n",
      "1   2      Bob         IT  60000.0  2019-03-10  6000.0            66000.0\n",
      "2   3  Charlie         IT  62125.0  2021-07-20  6212.5            68337.5\n",
      "3   4    David    Finance  75000.0  2018-11-25  7500.0            82500.0\n",
      "4   5      Eva         HR  52000.0  2020-05-30  5200.0            57200.0\n",
      "5   6    Frank    Finance  72000.0  2019-12-12  7200.0            79200.0\n",
      "6   7    Grace         IT  61000.0  2021-01-01  6100.0            67100.0\n",
      "7   8    Helen         HR  62125.0  2020-09-10  6212.5            68337.5\n",
      "8   9      Ian    Finance  68000.0  2018-06-18  6800.0            74800.0\n",
      "9  10     Jack         IT  59000.0  2021-03-03  5900.0            64900.0\n"
     ]
    }
   ],
   "source": [
    "# 6. Adding and Modifying Columns\n",
    "df['Bonus'] = df['Salary'] * 0.1\n",
    "df['TotalCompensation'] = df['Salary'] + df['Bonus']\n",
    "print(\"\\nAfter adding Bonus and TotalCompensation columns:\")\n",
    "print(df)"
   ]
  },
  {
   "cell_type": "code",
   "execution_count": 13,
   "id": "d35e380c",
   "metadata": {},
   "outputs": [
    {
     "name": "stdout",
     "output_type": "stream",
     "text": [
      "\n",
      "Sorted by Salary (Descending):\n",
      "   ID     Name Department   Salary JoiningDate   Bonus  TotalCompensation\n",
      "3   4    David    Finance  75000.0  2018-11-25  7500.0            82500.0\n",
      "5   6    Frank    Finance  72000.0  2019-12-12  7200.0            79200.0\n",
      "8   9      Ian    Finance  68000.0  2018-06-18  6800.0            74800.0\n",
      "2   3  Charlie         IT  62125.0  2021-07-20  6212.5            68337.5\n",
      "7   8    Helen         HR  62125.0  2020-09-10  6212.5            68337.5\n",
      "6   7    Grace         IT  61000.0  2021-01-01  6100.0            67100.0\n",
      "1   2      Bob         IT  60000.0  2019-03-10  6000.0            66000.0\n",
      "9  10     Jack         IT  59000.0  2021-03-03  5900.0            64900.0\n",
      "4   5      Eva         HR  52000.0  2020-05-30  5200.0            57200.0\n",
      "0   1    Alice         HR  50000.0  2020-01-15  5000.0            55000.0\n"
     ]
    }
   ],
   "source": [
    "# 7. Sorting\n",
    "df_sorted = df.sort_values(by='Salary', ascending=False)\n",
    "print(\"\\nSorted by Salary (Descending):\")\n",
    "print(df_sorted)"
   ]
  },
  {
   "cell_type": "code",
   "execution_count": 15,
   "id": "1f0dbce0",
   "metadata": {},
   "outputs": [
    {
     "name": "stdout",
     "output_type": "stream",
     "text": [
      "\n",
      "--- Average Salary by Department ---\n",
      "Department\n",
      "Finance    71666.666667\n",
      "HR         54708.333333\n",
      "IT         60531.250000\n",
      "Name: Salary, dtype: float64\n",
      "                  Salary    Bonus\n",
      "Department                       \n",
      "Finance     71666.666667  21500.0\n",
      "HR          54708.333333  16412.5\n",
      "IT          60531.250000  24212.5\n"
     ]
    }
   ],
   "source": [
    "# 8. Grouping and Aggregation\n",
    "grouped = df.groupby('Department')['Salary'].mean()\n",
    "print(\"\\n--- Average Salary by Department ---\")\n",
    "print(grouped)\n",
    "\n",
    "print(df.groupby('Department').agg({'Salary': 'mean', 'Bonus': 'sum'}))"
   ]
  },
  {
   "cell_type": "code",
   "execution_count": 16,
   "id": "ca1826c0",
   "metadata": {},
   "outputs": [
    {
     "name": "stdout",
     "output_type": "stream",
     "text": [
      "\n",
      "--- Pivot Table: Average Salary by Department ---\n",
      "                  Salary\n",
      "Department              \n",
      "Finance     71666.666667\n",
      "HR          54708.333333\n",
      "IT          60531.250000\n"
     ]
    }
   ],
   "source": [
    "# 9. Pivot Tables\n",
    "pivot = df.pivot_table(values='Salary', index='Department', aggfunc='mean')\n",
    "print(\"\\n--- Pivot Table: Average Salary by Department ---\")\n",
    "print(pivot)"
   ]
  },
  {
   "cell_type": "code",
   "execution_count": 17,
   "id": "e08e8c15",
   "metadata": {},
   "outputs": [
    {
     "name": "stdout",
     "output_type": "stream",
     "text": [
      "\n",
      "After extracting Year and Month from JoiningDate:\n",
      "      Name JoiningDate  Year  Month\n",
      "0    Alice  2020-01-15  2020      1\n",
      "1      Bob  2019-03-10  2019      3\n",
      "2  Charlie  2021-07-20  2021      7\n",
      "3    David  2018-11-25  2018     11\n",
      "4      Eva  2020-05-30  2020      5\n",
      "5    Frank  2019-12-12  2019     12\n",
      "6    Grace  2021-01-01  2021      1\n",
      "7    Helen  2020-09-10  2020      9\n",
      "8      Ian  2018-06-18  2018      6\n",
      "9     Jack  2021-03-03  2021      3\n"
     ]
    }
   ],
   "source": [
    "# 10. Working with Dates\n",
    "df['Year'] = df['JoiningDate'].dt.year\n",
    "df['Month'] = df['JoiningDate'].dt.month\n",
    "print(\"\\nAfter extracting Year and Month from JoiningDate:\")\n",
    "print(df[['Name', 'JoiningDate', 'Year', 'Month']])"
   ]
  },
  {
   "cell_type": "code",
   "execution_count": 21,
   "id": "e8226aef",
   "metadata": {},
   "outputs": [
    {
     "data": {
      "image/png": "[encoded data removed]",
      "text/plain": [
       "<Figure size 1000x600 with 1 Axes>"
      ]
     },
     "metadata": {},
     "output_type": "display_data"
    }
   ],
   "source": [
    "# 11. Visualization\n",
    "# Salary Histogram\n",
    "plt.figure(figsize=(10, 6))\n",
    "df['Salary'].hist(bins=5, color='skyblue', edgecolor='black')\n",
    "plt.title('Salary Distribution')\n",
    "plt.xlabel('Salary')\n",
    "plt.ylabel('Frequency')\n",
    "plt.grid(False)\n",
    "plt.show()"
   ]
  },
  {
   "cell_type": "code",
   "execution_count": 22,
   "id": "b53fd49c",
   "metadata": {},
   "outputs": [
    {
     "data": {
      "image/png": "[encoded data removed]",
      "text/plain": [
       "<Figure size 640x480 with 1 Axes>"
      ]
     },
     "metadata": {},
     "output_type": "display_data"
    }
   ],
   "source": [
    "# Department-wise Average Salary Bar Plot\n",
    "dept_salary = df.groupby('Department')['Salary'].mean()\n",
    "dept_salary.plot(kind='bar', color='orange', title='Average Salary by Department')\n",
    "plt.ylabel('Average Salary')\n",
    "plt.show()"
   ]
  },
  {
   "cell_type": "code",
   "execution_count": 23,
   "id": "be218edb",
   "metadata": {},
   "outputs": [
    {
     "data": {
      "image/png": "[encoded data removed]",
      "text/plain": [
       "<Figure size 640x480 with 1 Axes>"
      ]
     },
     "metadata": {},
     "output_type": "display_data"
    }
   ],
   "source": [
    "# Salary Trend Over Joining Year\n",
    "year_salary = df.groupby('Year')['Salary'].mean()\n",
    "year_salary.plot(kind='line', marker='o', color='green', title='Average Salary by Year')\n",
    "plt.ylabel('Average Salary')\n",
    "plt.show()"
   ]
  }
 ],
 "metadata": {
  "kernelspec": {
   "display_name": ".venv",
   "language": "python",
   "name": "python3"
  },
  "language_info": {
   "codemirror_mode": {
    "name": "ipython",
    "version": 3
   },
   "file_extension": ".py",
   "mimetype": "text/x-python",
   "name": "python",
   "nbconvert_exporter": "python",
   "pygments_lexer": "ipython3",
   "version": "3.13.7"
  }
 },
 "nbformat": 4,
 "nbformat_minor": 5
}
