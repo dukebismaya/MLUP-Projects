{
 "cells": [
  {
   "cell_type": "markdown",
   "id": "6d85a9ac",
   "metadata": {},
   "source": [
    "## Action Learning 2\n",
    "\n",
    "- Multiply Two csc_matrix Matrices"
   ]
  },
  {
   "cell_type": "markdown",
   "id": "3b493b52",
   "metadata": {
    "vscode": {
     "languageId": "plaintext"
    }
   },
   "source": [
    "## Example 1: Multiply Two csc_matrix Matrices\n",
    "In this example two sparse matrices are created using csc_matrix() class. These matrices are then multiplied element-wise using multiply() method which performs efficient operations on only the non-zero elements."
   ]
  },
  {
   "cell_type": "code",
   "execution_count": 1,
   "id": "600e8cd4",
   "metadata": {},
   "outputs": [],
   "source": [
    "import numpy as np\n",
    "from scipy.sparse import csc_matrix"
   ]
  },
  {
   "cell_type": "code",
   "execution_count": 2,
   "id": "cd795924",
   "metadata": {},
   "outputs": [
    {
     "name": "stdout",
     "output_type": "stream",
     "text": [
      "First CSC Matrix:\n",
      " [[4 3 0]\n",
      " [8 0 0]\n",
      " [0 9 0]]\n"
     ]
    }
   ],
   "source": [
    "# Create first csc matrix A\n",
    "row_A = np.array([0, 0, 1, 2])\n",
    "col_A = np.array([0, 1, 0, 1])\n",
    "data_A = np.array([4, 3, 8, 9])\n",
    "csc_A = csc_matrix((data_A, (row_A, col_A)), shape=(3, 3))\n",
    "\n",
    "print(\"First CSC Matrix:\\n\", csc_A.toarray())"
   ]
  },
  {
   "cell_type": "code",
   "execution_count": 3,
   "id": "4ee20c38",
   "metadata": {},
   "outputs": [
    {
     "name": "stdout",
     "output_type": "stream",
     "text": [
      "Second CSC Matrix:\n",
      " [[7 0 0]\n",
      " [2 5 0]\n",
      " [1 0 0]]\n"
     ]
    }
   ],
   "source": [
    "# Create second csc matrix B\n",
    "row_B = np.array([0, 1, 1, 2])\n",
    "col_B = np.array([0, 0, 1, 0])\n",
    "data_B = np.array([7, 2, 5, 1])\n",
    "csc_B = csc_matrix((data_B, (row_B, col_B)), shape=(3, 3))\n",
    "\n",
    "print(\"Second CSC Matrix:\\n\", csc_B.toarray())"
   ]
  },
  {
   "cell_type": "code",
   "execution_count": 4,
   "id": "8f2520ee",
   "metadata": {},
   "outputs": [
    {
     "name": "stdout",
     "output_type": "stream",
     "text": [
      "Element-wise Multiplication Result:\n",
      " [[28  0  0]\n",
      " [16  0  0]\n",
      " [ 0  0  0]]\n"
     ]
    }
   ],
   "source": [
    "# Element-wise multiplication\n",
    "result = csc_A.multiply(csc_B)\n",
    "print(\"Element-wise Multiplication Result:\\n\", result.toarray())"
   ]
  }
 ],
 "metadata": {
  "kernelspec": {
   "display_name": ".venv",
   "language": "python",
   "name": "python3"
  },
  "language_info": {
   "codemirror_mode": {
    "name": "ipython",
    "version": 3
   },
   "file_extension": ".py",
   "mimetype": "text/x-python",
   "name": "python",
   "nbconvert_exporter": "python",
   "pygments_lexer": "ipython3",
   "version": "3.13.6"
  }
 },
 "nbformat": 4,
 "nbformat_minor": 5
}
