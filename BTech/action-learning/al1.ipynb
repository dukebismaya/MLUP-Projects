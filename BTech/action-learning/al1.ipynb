{
 "cells": [
  {
   "cell_type": "markdown",
   "id": "d9b33925",
   "metadata": {},
   "source": [
    "## Action Learning 1\n",
    "- Matrix multiplication of 2 square matrices."
   ]
  },
  {
   "cell_type": "code",
   "execution_count": 1,
   "id": "3a6fa1de",
   "metadata": {},
   "outputs": [],
   "source": [
    "import numpy as np"
   ]
  },
  {
   "cell_type": "code",
   "execution_count": 2,
   "id": "95505267",
   "metadata": {},
   "outputs": [
    {
     "name": "stdout",
     "output_type": "stream",
     "text": [
      "Matrix p: \n",
      "[[1, 2], [3, 4]]\n",
      "Matrix q: \n",
      "[[5, 6], [7, 8]]\n"
     ]
    }
   ],
   "source": [
    "p = [[1, 2],\n",
    "    [3, 4]]\n",
    "q = [[5, 6],\n",
    "    [7, 8]]\n",
    "\n",
    "print(\"Matrix p: \")\n",
    "print(p)\n",
    "print(\"Matrix q: \")\n",
    "print(q)"
   ]
  },
  {
   "cell_type": "code",
   "execution_count": 3,
   "id": "3addf4ab",
   "metadata": {},
   "outputs": [
    {
     "name": "stdout",
     "output_type": "stream",
     "text": [
      "Resultant Matrix: \n",
      "[[19 22]\n",
      " [43 50]]\n"
     ]
    }
   ],
   "source": [
    "result = np.matmul(p, q)\n",
    "print(\"Resultant Matrix: \")\n",
    "print(result)"
   ]
  }
 ],
 "metadata": {
  "kernelspec": {
   "display_name": ".venv",
   "language": "python",
   "name": "python3"
  },
  "language_info": {
   "codemirror_mode": {
    "name": "ipython",
    "version": 3
   },
   "file_extension": ".py",
   "mimetype": "text/x-python",
   "name": "python",
   "nbconvert_exporter": "python",
   "pygments_lexer": "ipython3",
   "version": "3.13.6"
  }
 },
 "nbformat": 4,
 "nbformat_minor": 5
}
